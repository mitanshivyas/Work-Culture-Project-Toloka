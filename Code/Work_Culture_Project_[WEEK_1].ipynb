{
  "nbformat": 4,
  "nbformat_minor": 0,
  "metadata": {
    "colab": {
      "provenance": []
    },
    "kernelspec": {
      "name": "python3",
      "display_name": "Python 3"
    },
    "language_info": {
      "name": "python"
    }
  },
  "cells": [
    {
      "cell_type": "markdown",
      "source": [
        "### Importing Dependencies"
      ],
      "metadata": {
        "id": "Kkg7arjpTgP-"
      }
    },
    {
      "cell_type": "code",
      "source": [
        "import pandas as pd\n",
        "import io\n",
        "from google.colab import files\n",
        "import numpy as np\n",
        "import matplotlib.pyplot as plt\n",
        "import math\n",
        "%matplotlib inline\n",
        "from matplotlib.pyplot import figure"
      ],
      "metadata": {
        "id": "UHsJBBWRTjtK"
      },
      "execution_count": null,
      "outputs": []
    },
    {
      "cell_type": "markdown",
      "source": [
        "### Importing the Dataset"
      ],
      "metadata": {
        "id": "nrqHUIOwUk8U"
      }
    },
    {
      "cell_type": "code",
      "source": [
        "uploaded = files.upload()"
      ],
      "metadata": {
        "colab": {
          "base_uri": "https://localhost:8080/",
          "height": 73
        },
        "id": "iuUpp2qdUnAE",
        "outputId": "1bb9e49c-8479-4619-82b3-2062bc328e5b"
      },
      "execution_count": null,
      "outputs": [
        {
          "output_type": "display_data",
          "data": {
            "text/plain": [
              "<IPython.core.display.HTML object>"
            ],
            "text/html": [
              "\n",
              "     <input type=\"file\" id=\"files-2b31c9a3-6ba8-46c6-b51c-87b062624403\" name=\"files[]\" multiple disabled\n",
              "        style=\"border:none\" />\n",
              "     <output id=\"result-2b31c9a3-6ba8-46c6-b51c-87b062624403\">\n",
              "      Upload widget is only available when the cell has been executed in the\n",
              "      current browser session. Please rerun this cell to enable.\n",
              "      </output>\n",
              "      <script>// Copyright 2017 Google LLC\n",
              "//\n",
              "// Licensed under the Apache License, Version 2.0 (the \"License\");\n",
              "// you may not use this file except in compliance with the License.\n",
              "// You may obtain a copy of the License at\n",
              "//\n",
              "//      http://www.apache.org/licenses/LICENSE-2.0\n",
              "//\n",
              "// Unless required by applicable law or agreed to in writing, software\n",
              "// distributed under the License is distributed on an \"AS IS\" BASIS,\n",
              "// WITHOUT WARRANTIES OR CONDITIONS OF ANY KIND, either express or implied.\n",
              "// See the License for the specific language governing permissions and\n",
              "// limitations under the License.\n",
              "\n",
              "/**\n",
              " * @fileoverview Helpers for google.colab Python module.\n",
              " */\n",
              "(function(scope) {\n",
              "function span(text, styleAttributes = {}) {\n",
              "  const element = document.createElement('span');\n",
              "  element.textContent = text;\n",
              "  for (const key of Object.keys(styleAttributes)) {\n",
              "    element.style[key] = styleAttributes[key];\n",
              "  }\n",
              "  return element;\n",
              "}\n",
              "\n",
              "// Max number of bytes which will be uploaded at a time.\n",
              "const MAX_PAYLOAD_SIZE = 100 * 1024;\n",
              "\n",
              "function _uploadFiles(inputId, outputId) {\n",
              "  const steps = uploadFilesStep(inputId, outputId);\n",
              "  const outputElement = document.getElementById(outputId);\n",
              "  // Cache steps on the outputElement to make it available for the next call\n",
              "  // to uploadFilesContinue from Python.\n",
              "  outputElement.steps = steps;\n",
              "\n",
              "  return _uploadFilesContinue(outputId);\n",
              "}\n",
              "\n",
              "// This is roughly an async generator (not supported in the browser yet),\n",
              "// where there are multiple asynchronous steps and the Python side is going\n",
              "// to poll for completion of each step.\n",
              "// This uses a Promise to block the python side on completion of each step,\n",
              "// then passes the result of the previous step as the input to the next step.\n",
              "function _uploadFilesContinue(outputId) {\n",
              "  const outputElement = document.getElementById(outputId);\n",
              "  const steps = outputElement.steps;\n",
              "\n",
              "  const next = steps.next(outputElement.lastPromiseValue);\n",
              "  return Promise.resolve(next.value.promise).then((value) => {\n",
              "    // Cache the last promise value to make it available to the next\n",
              "    // step of the generator.\n",
              "    outputElement.lastPromiseValue = value;\n",
              "    return next.value.response;\n",
              "  });\n",
              "}\n",
              "\n",
              "/**\n",
              " * Generator function which is called between each async step of the upload\n",
              " * process.\n",
              " * @param {string} inputId Element ID of the input file picker element.\n",
              " * @param {string} outputId Element ID of the output display.\n",
              " * @return {!Iterable<!Object>} Iterable of next steps.\n",
              " */\n",
              "function* uploadFilesStep(inputId, outputId) {\n",
              "  const inputElement = document.getElementById(inputId);\n",
              "  inputElement.disabled = false;\n",
              "\n",
              "  const outputElement = document.getElementById(outputId);\n",
              "  outputElement.innerHTML = '';\n",
              "\n",
              "  const pickedPromise = new Promise((resolve) => {\n",
              "    inputElement.addEventListener('change', (e) => {\n",
              "      resolve(e.target.files);\n",
              "    });\n",
              "  });\n",
              "\n",
              "  const cancel = document.createElement('button');\n",
              "  inputElement.parentElement.appendChild(cancel);\n",
              "  cancel.textContent = 'Cancel upload';\n",
              "  const cancelPromise = new Promise((resolve) => {\n",
              "    cancel.onclick = () => {\n",
              "      resolve(null);\n",
              "    };\n",
              "  });\n",
              "\n",
              "  // Wait for the user to pick the files.\n",
              "  const files = yield {\n",
              "    promise: Promise.race([pickedPromise, cancelPromise]),\n",
              "    response: {\n",
              "      action: 'starting',\n",
              "    }\n",
              "  };\n",
              "\n",
              "  cancel.remove();\n",
              "\n",
              "  // Disable the input element since further picks are not allowed.\n",
              "  inputElement.disabled = true;\n",
              "\n",
              "  if (!files) {\n",
              "    return {\n",
              "      response: {\n",
              "        action: 'complete',\n",
              "      }\n",
              "    };\n",
              "  }\n",
              "\n",
              "  for (const file of files) {\n",
              "    const li = document.createElement('li');\n",
              "    li.append(span(file.name, {fontWeight: 'bold'}));\n",
              "    li.append(span(\n",
              "        `(${file.type || 'n/a'}) - ${file.size} bytes, ` +\n",
              "        `last modified: ${\n",
              "            file.lastModifiedDate ? file.lastModifiedDate.toLocaleDateString() :\n",
              "                                    'n/a'} - `));\n",
              "    const percent = span('0% done');\n",
              "    li.appendChild(percent);\n",
              "\n",
              "    outputElement.appendChild(li);\n",
              "\n",
              "    const fileDataPromise = new Promise((resolve) => {\n",
              "      const reader = new FileReader();\n",
              "      reader.onload = (e) => {\n",
              "        resolve(e.target.result);\n",
              "      };\n",
              "      reader.readAsArrayBuffer(file);\n",
              "    });\n",
              "    // Wait for the data to be ready.\n",
              "    let fileData = yield {\n",
              "      promise: fileDataPromise,\n",
              "      response: {\n",
              "        action: 'continue',\n",
              "      }\n",
              "    };\n",
              "\n",
              "    // Use a chunked sending to avoid message size limits. See b/62115660.\n",
              "    let position = 0;\n",
              "    do {\n",
              "      const length = Math.min(fileData.byteLength - position, MAX_PAYLOAD_SIZE);\n",
              "      const chunk = new Uint8Array(fileData, position, length);\n",
              "      position += length;\n",
              "\n",
              "      const base64 = btoa(String.fromCharCode.apply(null, chunk));\n",
              "      yield {\n",
              "        response: {\n",
              "          action: 'append',\n",
              "          file: file.name,\n",
              "          data: base64,\n",
              "        },\n",
              "      };\n",
              "\n",
              "      let percentDone = fileData.byteLength === 0 ?\n",
              "          100 :\n",
              "          Math.round((position / fileData.byteLength) * 100);\n",
              "      percent.textContent = `${percentDone}% done`;\n",
              "\n",
              "    } while (position < fileData.byteLength);\n",
              "  }\n",
              "\n",
              "  // All done.\n",
              "  yield {\n",
              "    response: {\n",
              "      action: 'complete',\n",
              "    }\n",
              "  };\n",
              "}\n",
              "\n",
              "scope.google = scope.google || {};\n",
              "scope.google.colab = scope.google.colab || {};\n",
              "scope.google.colab._files = {\n",
              "  _uploadFiles,\n",
              "  _uploadFilesContinue,\n",
              "};\n",
              "})(self);\n",
              "</script> "
            ]
          },
          "metadata": {}
        },
        {
          "output_type": "stream",
          "name": "stdout",
          "text": [
            "Saving task_data.csv to task_data.csv\n"
          ]
        }
      ]
    },
    {
      "cell_type": "code",
      "source": [
        "user_data = pd.read_csv('user_data.csv')"
      ],
      "metadata": {
        "id": "uQh7FiuZUpnH"
      },
      "execution_count": null,
      "outputs": []
    },
    {
      "cell_type": "code",
      "source": [
        "uploaded = files.upload()"
      ],
      "metadata": {
        "colab": {
          "base_uri": "https://localhost:8080/",
          "height": 73
        },
        "id": "5kmb82TGU5zW",
        "outputId": "18a136bc-f394-4909-9013-6949853cbe44"
      },
      "execution_count": null,
      "outputs": [
        {
          "output_type": "display_data",
          "data": {
            "text/plain": [
              "<IPython.core.display.HTML object>"
            ],
            "text/html": [
              "\n",
              "     <input type=\"file\" id=\"files-7d675414-f79d-4ad2-a526-4dc75550b41a\" name=\"files[]\" multiple disabled\n",
              "        style=\"border:none\" />\n",
              "     <output id=\"result-7d675414-f79d-4ad2-a526-4dc75550b41a\">\n",
              "      Upload widget is only available when the cell has been executed in the\n",
              "      current browser session. Please rerun this cell to enable.\n",
              "      </output>\n",
              "      <script>// Copyright 2017 Google LLC\n",
              "//\n",
              "// Licensed under the Apache License, Version 2.0 (the \"License\");\n",
              "// you may not use this file except in compliance with the License.\n",
              "// You may obtain a copy of the License at\n",
              "//\n",
              "//      http://www.apache.org/licenses/LICENSE-2.0\n",
              "//\n",
              "// Unless required by applicable law or agreed to in writing, software\n",
              "// distributed under the License is distributed on an \"AS IS\" BASIS,\n",
              "// WITHOUT WARRANTIES OR CONDITIONS OF ANY KIND, either express or implied.\n",
              "// See the License for the specific language governing permissions and\n",
              "// limitations under the License.\n",
              "\n",
              "/**\n",
              " * @fileoverview Helpers for google.colab Python module.\n",
              " */\n",
              "(function(scope) {\n",
              "function span(text, styleAttributes = {}) {\n",
              "  const element = document.createElement('span');\n",
              "  element.textContent = text;\n",
              "  for (const key of Object.keys(styleAttributes)) {\n",
              "    element.style[key] = styleAttributes[key];\n",
              "  }\n",
              "  return element;\n",
              "}\n",
              "\n",
              "// Max number of bytes which will be uploaded at a time.\n",
              "const MAX_PAYLOAD_SIZE = 100 * 1024;\n",
              "\n",
              "function _uploadFiles(inputId, outputId) {\n",
              "  const steps = uploadFilesStep(inputId, outputId);\n",
              "  const outputElement = document.getElementById(outputId);\n",
              "  // Cache steps on the outputElement to make it available for the next call\n",
              "  // to uploadFilesContinue from Python.\n",
              "  outputElement.steps = steps;\n",
              "\n",
              "  return _uploadFilesContinue(outputId);\n",
              "}\n",
              "\n",
              "// This is roughly an async generator (not supported in the browser yet),\n",
              "// where there are multiple asynchronous steps and the Python side is going\n",
              "// to poll for completion of each step.\n",
              "// This uses a Promise to block the python side on completion of each step,\n",
              "// then passes the result of the previous step as the input to the next step.\n",
              "function _uploadFilesContinue(outputId) {\n",
              "  const outputElement = document.getElementById(outputId);\n",
              "  const steps = outputElement.steps;\n",
              "\n",
              "  const next = steps.next(outputElement.lastPromiseValue);\n",
              "  return Promise.resolve(next.value.promise).then((value) => {\n",
              "    // Cache the last promise value to make it available to the next\n",
              "    // step of the generator.\n",
              "    outputElement.lastPromiseValue = value;\n",
              "    return next.value.response;\n",
              "  });\n",
              "}\n",
              "\n",
              "/**\n",
              " * Generator function which is called between each async step of the upload\n",
              " * process.\n",
              " * @param {string} inputId Element ID of the input file picker element.\n",
              " * @param {string} outputId Element ID of the output display.\n",
              " * @return {!Iterable<!Object>} Iterable of next steps.\n",
              " */\n",
              "function* uploadFilesStep(inputId, outputId) {\n",
              "  const inputElement = document.getElementById(inputId);\n",
              "  inputElement.disabled = false;\n",
              "\n",
              "  const outputElement = document.getElementById(outputId);\n",
              "  outputElement.innerHTML = '';\n",
              "\n",
              "  const pickedPromise = new Promise((resolve) => {\n",
              "    inputElement.addEventListener('change', (e) => {\n",
              "      resolve(e.target.files);\n",
              "    });\n",
              "  });\n",
              "\n",
              "  const cancel = document.createElement('button');\n",
              "  inputElement.parentElement.appendChild(cancel);\n",
              "  cancel.textContent = 'Cancel upload';\n",
              "  const cancelPromise = new Promise((resolve) => {\n",
              "    cancel.onclick = () => {\n",
              "      resolve(null);\n",
              "    };\n",
              "  });\n",
              "\n",
              "  // Wait for the user to pick the files.\n",
              "  const files = yield {\n",
              "    promise: Promise.race([pickedPromise, cancelPromise]),\n",
              "    response: {\n",
              "      action: 'starting',\n",
              "    }\n",
              "  };\n",
              "\n",
              "  cancel.remove();\n",
              "\n",
              "  // Disable the input element since further picks are not allowed.\n",
              "  inputElement.disabled = true;\n",
              "\n",
              "  if (!files) {\n",
              "    return {\n",
              "      response: {\n",
              "        action: 'complete',\n",
              "      }\n",
              "    };\n",
              "  }\n",
              "\n",
              "  for (const file of files) {\n",
              "    const li = document.createElement('li');\n",
              "    li.append(span(file.name, {fontWeight: 'bold'}));\n",
              "    li.append(span(\n",
              "        `(${file.type || 'n/a'}) - ${file.size} bytes, ` +\n",
              "        `last modified: ${\n",
              "            file.lastModifiedDate ? file.lastModifiedDate.toLocaleDateString() :\n",
              "                                    'n/a'} - `));\n",
              "    const percent = span('0% done');\n",
              "    li.appendChild(percent);\n",
              "\n",
              "    outputElement.appendChild(li);\n",
              "\n",
              "    const fileDataPromise = new Promise((resolve) => {\n",
              "      const reader = new FileReader();\n",
              "      reader.onload = (e) => {\n",
              "        resolve(e.target.result);\n",
              "      };\n",
              "      reader.readAsArrayBuffer(file);\n",
              "    });\n",
              "    // Wait for the data to be ready.\n",
              "    let fileData = yield {\n",
              "      promise: fileDataPromise,\n",
              "      response: {\n",
              "        action: 'continue',\n",
              "      }\n",
              "    };\n",
              "\n",
              "    // Use a chunked sending to avoid message size limits. See b/62115660.\n",
              "    let position = 0;\n",
              "    do {\n",
              "      const length = Math.min(fileData.byteLength - position, MAX_PAYLOAD_SIZE);\n",
              "      const chunk = new Uint8Array(fileData, position, length);\n",
              "      position += length;\n",
              "\n",
              "      const base64 = btoa(String.fromCharCode.apply(null, chunk));\n",
              "      yield {\n",
              "        response: {\n",
              "          action: 'append',\n",
              "          file: file.name,\n",
              "          data: base64,\n",
              "        },\n",
              "      };\n",
              "\n",
              "      let percentDone = fileData.byteLength === 0 ?\n",
              "          100 :\n",
              "          Math.round((position / fileData.byteLength) * 100);\n",
              "      percent.textContent = `${percentDone}% done`;\n",
              "\n",
              "    } while (position < fileData.byteLength);\n",
              "  }\n",
              "\n",
              "  // All done.\n",
              "  yield {\n",
              "    response: {\n",
              "      action: 'complete',\n",
              "    }\n",
              "  };\n",
              "}\n",
              "\n",
              "scope.google = scope.google || {};\n",
              "scope.google.colab = scope.google.colab || {};\n",
              "scope.google.colab._files = {\n",
              "  _uploadFiles,\n",
              "  _uploadFilesContinue,\n",
              "};\n",
              "})(self);\n",
              "</script> "
            ]
          },
          "metadata": {}
        },
        {
          "output_type": "stream",
          "name": "stdout",
          "text": [
            "Saving income_data.csv to income_data.csv\n"
          ]
        }
      ]
    },
    {
      "cell_type": "code",
      "source": [
        "income_data = pd.read_csv('income_data.csv')"
      ],
      "metadata": {
        "id": "CRLDlwd7VB7m"
      },
      "execution_count": null,
      "outputs": []
    },
    {
      "cell_type": "code",
      "source": [
        "uploaded = files.upload()"
      ],
      "metadata": {
        "colab": {
          "base_uri": "https://localhost:8080/",
          "height": 73
        },
        "id": "rR9dVUyvVJon",
        "outputId": "6be92458-0dd5-4f7f-89c2-ff1971bf10aa"
      },
      "execution_count": null,
      "outputs": [
        {
          "output_type": "display_data",
          "data": {
            "text/plain": [
              "<IPython.core.display.HTML object>"
            ],
            "text/html": [
              "\n",
              "     <input type=\"file\" id=\"files-9e817cca-8c72-415b-97c0-767b0d083588\" name=\"files[]\" multiple disabled\n",
              "        style=\"border:none\" />\n",
              "     <output id=\"result-9e817cca-8c72-415b-97c0-767b0d083588\">\n",
              "      Upload widget is only available when the cell has been executed in the\n",
              "      current browser session. Please rerun this cell to enable.\n",
              "      </output>\n",
              "      <script>// Copyright 2017 Google LLC\n",
              "//\n",
              "// Licensed under the Apache License, Version 2.0 (the \"License\");\n",
              "// you may not use this file except in compliance with the License.\n",
              "// You may obtain a copy of the License at\n",
              "//\n",
              "//      http://www.apache.org/licenses/LICENSE-2.0\n",
              "//\n",
              "// Unless required by applicable law or agreed to in writing, software\n",
              "// distributed under the License is distributed on an \"AS IS\" BASIS,\n",
              "// WITHOUT WARRANTIES OR CONDITIONS OF ANY KIND, either express or implied.\n",
              "// See the License for the specific language governing permissions and\n",
              "// limitations under the License.\n",
              "\n",
              "/**\n",
              " * @fileoverview Helpers for google.colab Python module.\n",
              " */\n",
              "(function(scope) {\n",
              "function span(text, styleAttributes = {}) {\n",
              "  const element = document.createElement('span');\n",
              "  element.textContent = text;\n",
              "  for (const key of Object.keys(styleAttributes)) {\n",
              "    element.style[key] = styleAttributes[key];\n",
              "  }\n",
              "  return element;\n",
              "}\n",
              "\n",
              "// Max number of bytes which will be uploaded at a time.\n",
              "const MAX_PAYLOAD_SIZE = 100 * 1024;\n",
              "\n",
              "function _uploadFiles(inputId, outputId) {\n",
              "  const steps = uploadFilesStep(inputId, outputId);\n",
              "  const outputElement = document.getElementById(outputId);\n",
              "  // Cache steps on the outputElement to make it available for the next call\n",
              "  // to uploadFilesContinue from Python.\n",
              "  outputElement.steps = steps;\n",
              "\n",
              "  return _uploadFilesContinue(outputId);\n",
              "}\n",
              "\n",
              "// This is roughly an async generator (not supported in the browser yet),\n",
              "// where there are multiple asynchronous steps and the Python side is going\n",
              "// to poll for completion of each step.\n",
              "// This uses a Promise to block the python side on completion of each step,\n",
              "// then passes the result of the previous step as the input to the next step.\n",
              "function _uploadFilesContinue(outputId) {\n",
              "  const outputElement = document.getElementById(outputId);\n",
              "  const steps = outputElement.steps;\n",
              "\n",
              "  const next = steps.next(outputElement.lastPromiseValue);\n",
              "  return Promise.resolve(next.value.promise).then((value) => {\n",
              "    // Cache the last promise value to make it available to the next\n",
              "    // step of the generator.\n",
              "    outputElement.lastPromiseValue = value;\n",
              "    return next.value.response;\n",
              "  });\n",
              "}\n",
              "\n",
              "/**\n",
              " * Generator function which is called between each async step of the upload\n",
              " * process.\n",
              " * @param {string} inputId Element ID of the input file picker element.\n",
              " * @param {string} outputId Element ID of the output display.\n",
              " * @return {!Iterable<!Object>} Iterable of next steps.\n",
              " */\n",
              "function* uploadFilesStep(inputId, outputId) {\n",
              "  const inputElement = document.getElementById(inputId);\n",
              "  inputElement.disabled = false;\n",
              "\n",
              "  const outputElement = document.getElementById(outputId);\n",
              "  outputElement.innerHTML = '';\n",
              "\n",
              "  const pickedPromise = new Promise((resolve) => {\n",
              "    inputElement.addEventListener('change', (e) => {\n",
              "      resolve(e.target.files);\n",
              "    });\n",
              "  });\n",
              "\n",
              "  const cancel = document.createElement('button');\n",
              "  inputElement.parentElement.appendChild(cancel);\n",
              "  cancel.textContent = 'Cancel upload';\n",
              "  const cancelPromise = new Promise((resolve) => {\n",
              "    cancel.onclick = () => {\n",
              "      resolve(null);\n",
              "    };\n",
              "  });\n",
              "\n",
              "  // Wait for the user to pick the files.\n",
              "  const files = yield {\n",
              "    promise: Promise.race([pickedPromise, cancelPromise]),\n",
              "    response: {\n",
              "      action: 'starting',\n",
              "    }\n",
              "  };\n",
              "\n",
              "  cancel.remove();\n",
              "\n",
              "  // Disable the input element since further picks are not allowed.\n",
              "  inputElement.disabled = true;\n",
              "\n",
              "  if (!files) {\n",
              "    return {\n",
              "      response: {\n",
              "        action: 'complete',\n",
              "      }\n",
              "    };\n",
              "  }\n",
              "\n",
              "  for (const file of files) {\n",
              "    const li = document.createElement('li');\n",
              "    li.append(span(file.name, {fontWeight: 'bold'}));\n",
              "    li.append(span(\n",
              "        `(${file.type || 'n/a'}) - ${file.size} bytes, ` +\n",
              "        `last modified: ${\n",
              "            file.lastModifiedDate ? file.lastModifiedDate.toLocaleDateString() :\n",
              "                                    'n/a'} - `));\n",
              "    const percent = span('0% done');\n",
              "    li.appendChild(percent);\n",
              "\n",
              "    outputElement.appendChild(li);\n",
              "\n",
              "    const fileDataPromise = new Promise((resolve) => {\n",
              "      const reader = new FileReader();\n",
              "      reader.onload = (e) => {\n",
              "        resolve(e.target.result);\n",
              "      };\n",
              "      reader.readAsArrayBuffer(file);\n",
              "    });\n",
              "    // Wait for the data to be ready.\n",
              "    let fileData = yield {\n",
              "      promise: fileDataPromise,\n",
              "      response: {\n",
              "        action: 'continue',\n",
              "      }\n",
              "    };\n",
              "\n",
              "    // Use a chunked sending to avoid message size limits. See b/62115660.\n",
              "    let position = 0;\n",
              "    do {\n",
              "      const length = Math.min(fileData.byteLength - position, MAX_PAYLOAD_SIZE);\n",
              "      const chunk = new Uint8Array(fileData, position, length);\n",
              "      position += length;\n",
              "\n",
              "      const base64 = btoa(String.fromCharCode.apply(null, chunk));\n",
              "      yield {\n",
              "        response: {\n",
              "          action: 'append',\n",
              "          file: file.name,\n",
              "          data: base64,\n",
              "        },\n",
              "      };\n",
              "\n",
              "      let percentDone = fileData.byteLength === 0 ?\n",
              "          100 :\n",
              "          Math.round((position / fileData.byteLength) * 100);\n",
              "      percent.textContent = `${percentDone}% done`;\n",
              "\n",
              "    } while (position < fileData.byteLength);\n",
              "  }\n",
              "\n",
              "  // All done.\n",
              "  yield {\n",
              "    response: {\n",
              "      action: 'complete',\n",
              "    }\n",
              "  };\n",
              "}\n",
              "\n",
              "scope.google = scope.google || {};\n",
              "scope.google.colab = scope.google.colab || {};\n",
              "scope.google.colab._files = {\n",
              "  _uploadFiles,\n",
              "  _uploadFilesContinue,\n",
              "};\n",
              "})(self);\n",
              "</script> "
            ]
          },
          "metadata": {}
        },
        {
          "output_type": "stream",
          "name": "stdout",
          "text": [
            "Saving user_data.csv to user_data.csv\n"
          ]
        }
      ]
    },
    {
      "cell_type": "code",
      "source": [
        "task_data = pd.read_csv('task_data.csv')"
      ],
      "metadata": {
        "id": "hRSWRt2kVdrI"
      },
      "execution_count": null,
      "outputs": []
    },
    {
      "cell_type": "markdown",
      "source": [
        "## Task - 1\n",
        "Create a Python Script that given a worker id, Calculate earnings per day"
      ],
      "metadata": {
        "id": "j_3I9ZbAVmNp"
      }
    },
    {
      "cell_type": "code",
      "source": [
        "# earnings per day = total earnings/number of days the worker has been on Toloka\n",
        "# for getting the total income, we will be using the income data"
      ],
      "metadata": {
        "id": "k-u8AP4JVtBQ"
      },
      "execution_count": null,
      "outputs": []
    },
    {
      "cell_type": "code",
      "source": [
        "def calc_earnings_per_day(worker_id):\n",
        "  i_data = income_data[[\"uid\", \"income\"]]\n",
        "  df_new = i_data.groupby('uid').sum()\n",
        "  newdf = df_new.merge(user_data[['uid','joined']], how='outer', on='uid')\n",
        "  newdf['todays_date'] = pd.Timestamp.today().strftime('%Y-%m-%d')\n",
        "  newdf[['joined','todays_date']] = newdf[['joined','todays_date']].apply(pd.to_datetime)\n",
        "  newdf['joined'] = newdf['joined'].dt.strftime('%Y-%m-%d')\n",
        "  newdf[\"joined\"] = pd.to_datetime(newdf[\"joined\"], format='%Y-%m-%d')\n",
        "  newdf['days'] = (newdf['todays_date']- newdf['joined']).dt.days\n",
        "  newdf['per_day'] = newdf['income']/newdf['days']\n",
        "  earnings = newdf.loc[newdf['uid'] == worker_id, 'per_day'].iloc[0]\n",
        "  print('The total earnings per day of worker - ' + str(worker_id) + ' = ' + '\\033[1m' + str(round(earnings, 3)) + '\\033[1m' + '$')"
      ],
      "metadata": {
        "id": "7_7uLRpRVxg8"
      },
      "execution_count": null,
      "outputs": []
    },
    {
      "cell_type": "code",
      "source": [
        "calc_earnings_per_day(1430094402)"
      ],
      "metadata": {
        "colab": {
          "base_uri": "https://localhost:8080/"
        },
        "id": "kNJRyqN1XQOQ",
        "outputId": "7030f485-1ece-4c77-a0a1-0987d1e97e95"
      },
      "execution_count": null,
      "outputs": [
        {
          "output_type": "stream",
          "name": "stdout",
          "text": [
            "The total earnings per day of worker - 1430094402 = \u001b[1m0.006\u001b[1m$\n"
          ]
        }
      ]
    },
    {
      "cell_type": "code",
      "source": [
        "calc_earnings_per_day(1316040758)"
      ],
      "metadata": {
        "colab": {
          "base_uri": "https://localhost:8080/"
        },
        "id": "g3yCbv1p86RQ",
        "outputId": "201dd14f-1b35-47c3-cf43-b3796e2f1354"
      },
      "execution_count": null,
      "outputs": [
        {
          "output_type": "stream",
          "name": "stdout",
          "text": [
            "The total earnings per day of worker - 1316040758 = \u001b[1m0.01\u001b[1m$\n"
          ]
        }
      ]
    },
    {
      "cell_type": "code",
      "source": [
        "calc_earnings_per_day(1429235843)"
      ],
      "metadata": {
        "colab": {
          "base_uri": "https://localhost:8080/"
        },
        "id": "m6-kPMfa88SU",
        "outputId": "25387002-fa34-4bc3-c2d0-b971da9b03b0"
      },
      "execution_count": null,
      "outputs": [
        {
          "output_type": "stream",
          "name": "stdout",
          "text": [
            "The total earnings per day of worker - 1429235843 = \u001b[1m0.011\u001b[1m$\n"
          ]
        }
      ]
    },
    {
      "cell_type": "code",
      "source": [
        "calc_earnings_per_day(1458049517)"
      ],
      "metadata": {
        "colab": {
          "base_uri": "https://localhost:8080/"
        },
        "id": "ifw5ZmQs89CT",
        "outputId": "33e57a47-83ef-407b-94d8-feeab3472fb6"
      },
      "execution_count": null,
      "outputs": [
        {
          "output_type": "stream",
          "name": "stdout",
          "text": [
            "The total earnings per day of worker - 1458049517 = \u001b[1m0.016\u001b[1m$\n"
          ]
        }
      ]
    },
    {
      "cell_type": "code",
      "source": [
        "calc_earnings_per_day(1490584733)"
      ],
      "metadata": {
        "colab": {
          "base_uri": "https://localhost:8080/"
        },
        "id": "Uw5j0tCp89uk",
        "outputId": "da3cafe6-3797-4231-9fe7-6027cb191101"
      },
      "execution_count": null,
      "outputs": [
        {
          "output_type": "stream",
          "name": "stdout",
          "text": [
            "The total earnings per day of worker - 1490584733 = \u001b[1m0.078\u001b[1m$\n"
          ]
        }
      ]
    },
    {
      "cell_type": "code",
      "source": [
        "calc_earnings_per_day(1713698815)"
      ],
      "metadata": {
        "colab": {
          "base_uri": "https://localhost:8080/"
        },
        "id": "Q67ucddF8-ae",
        "outputId": "19420904-8f20-4548-bf11-48f93357deb1"
      },
      "execution_count": null,
      "outputs": [
        {
          "output_type": "stream",
          "name": "stdout",
          "text": [
            "The total earnings per day of worker - 1713698815 = \u001b[1m0.01\u001b[1m$\n"
          ]
        }
      ]
    },
    {
      "cell_type": "code",
      "source": [
        "calc_earnings_per_day(1710096477)"
      ],
      "metadata": {
        "colab": {
          "base_uri": "https://localhost:8080/"
        },
        "id": "xps2oE6C9Oq6",
        "outputId": "f7109e35-0642-4a74-8678-80924f9328ce"
      },
      "execution_count": null,
      "outputs": [
        {
          "output_type": "stream",
          "name": "stdout",
          "text": [
            "The total earnings per day of worker - 1710096477 = \u001b[1m0.046\u001b[1m$\n"
          ]
        }
      ]
    },
    {
      "cell_type": "code",
      "source": [
        "calc_earnings_per_day(1718416044)"
      ],
      "metadata": {
        "colab": {
          "base_uri": "https://localhost:8080/"
        },
        "id": "3ynIy3At9PUw",
        "outputId": "87d43c98-1744-4d10-ba3b-82a4d82d8558"
      },
      "execution_count": null,
      "outputs": [
        {
          "output_type": "stream",
          "name": "stdout",
          "text": [
            "The total earnings per day of worker - 1718416044 = \u001b[1m0.104\u001b[1m$\n"
          ]
        }
      ]
    },
    {
      "cell_type": "code",
      "source": [
        "i_data = income_data[[\"uid\", \"income\"]]\n",
        "df_new = i_data.groupby('uid').sum()\n",
        "newdf = df_new.merge(user_data[['uid','joined']], how='outer', on='uid')\n",
        "newdf['todays_date'] = pd.Timestamp.today().strftime('%Y-%m-%d')\n",
        "newdf[['joined','todays_date']] = newdf[['joined','todays_date']].apply(pd.to_datetime)\n",
        "newdf['joined'] = newdf['joined'].dt.strftime('%Y-%m-%d')\n",
        "newdf[\"joined\"] = pd.to_datetime(newdf[\"joined\"], format='%Y-%m-%d')\n",
        "newdf['days'] = (newdf['todays_date']- newdf['joined']).dt.days\n",
        "newdf['per_day'] = newdf['income']/newdf['days']\n",
        "print(newdf.head())\n",
        "# earnings = newdf.loc[newdf['uid'] == worker_id, 'per_day'].iloc[0]"
      ],
      "metadata": {
        "colab": {
          "base_uri": "https://localhost:8080/"
        },
        "id": "KFW9AMf69QoF",
        "outputId": "1225d67b-2a41-49ec-d7a8-2ab0cc4cecfd"
      },
      "execution_count": null,
      "outputs": [
        {
          "output_type": "stream",
          "name": "stdout",
          "text": [
            "          uid  income     joined todays_date  days   per_day\n",
            "0  1316040758   7.659 2021-01-13  2023-02-02   750  0.010212\n",
            "1  1429235843   6.717 2021-05-27  2023-02-02   616  0.010904\n",
            "2  1430094402   3.520 2021-05-29  2023-02-02   614  0.005733\n",
            "3  1458049517   8.757 2021-07-27  2023-02-02   555  0.015778\n",
            "4  1490584733  38.084 2021-09-29  2023-02-02   491  0.077564\n"
          ]
        }
      ]
    },
    {
      "cell_type": "code",
      "source": [
        "newdf.plot(x=\"uid\", y=[\"per_day\"], kind=\"bar\", figsize=(9, 8), color = 'mediumslateblue')"
      ],
      "metadata": {
        "colab": {
          "base_uri": "https://localhost:8080/",
          "height": 568
        },
        "id": "AwunxolP-1_t",
        "outputId": "90ac622e-4527-4164-9e0a-e6092e0eb04c"
      },
      "execution_count": null,
      "outputs": [
        {
          "output_type": "execute_result",
          "data": {
            "text/plain": [
              "<matplotlib.axes._subplots.AxesSubplot at 0x7fc03b268640>"
            ]
          },
          "metadata": {},
          "execution_count": 44
        },
        {
          "output_type": "display_data",
          "data": {
            "text/plain": [
              "<Figure size 648x576 with 1 Axes>"
            ],
            "image/png": "[encoded data removed]"
          },
          "metadata": {
            "needs_background": "light"
          }
        }
      ]
    },
    {
      "cell_type": "code",
      "source": [
        "user_data['uid'].unique()"
      ],
      "metadata": {
        "colab": {
          "base_uri": "https://localhost:8080/"
        },
        "id": "abU8fJ0J8t8V",
        "outputId": "569c3850-6a53-4f0b-ade0-f3ad19842cdf"
      },
      "execution_count": null,
      "outputs": [
        {
          "output_type": "execute_result",
          "data": {
            "text/plain": [
              "array([1316040758, 1429235843, 1430094402, 1458049517, 1490584733,\n",
              "       1648608319, 1674749132, 1675921760, 1684019585, 1699065816,\n",
              "       1703905621, 1706440161, 1709755371, 1710096477, 1713698815,\n",
              "       1714073899, 1716528528, 1718146027, 1718416044, 1725201772,\n",
              "       1725259597])"
            ]
          },
          "metadata": {},
          "execution_count": 16
        }
      ]
    },
    {
      "cell_type": "code",
      "source": [
        "user_data.head()"
      ],
      "metadata": {
        "colab": {
          "base_uri": "https://localhost:8080/",
          "height": 206
        },
        "id": "GhJ7vsNr8vJA",
        "outputId": "f89bd6d2-ff76-44ca-8684-249bcb219ce7"
      },
      "execution_count": null,
      "outputs": [
        {
          "output_type": "execute_result",
          "data": {
            "text/plain": [
              "   Unnamed: 0         uid country            language  \\\n",
              "0           0  1316040758      EG              AR,EN,   \n",
              "1           1  1429235843      KE           EN,KI,SW,   \n",
              "2           2  1430094402      PK  DE,EN,ES,ID,PT,RU,   \n",
              "3           3  1458049517      TR     DE,EN,FR,RU,TR,   \n",
              "4           4  1490584733      ID              EN,ID,   \n",
              "\n",
              "                  birthdate                    joined  \n",
              "0  1984-03-11T00:00:00.000Z  2021-01-13T00:00:00.000Z  \n",
              "1  1993-03-01T00:00:00.000Z  2021-05-27T00:00:00.000Z  \n",
              "2  1989-09-24T00:00:00.000Z  2021-05-29T00:00:00.000Z  \n",
              "3  1996-12-16T00:00:00.000Z  2021-07-27T00:00:00.000Z  \n",
              "4  1982-03-13T00:00:00.000Z  2021-09-29T00:00:00.000Z  "
            ],
            "text/html": [
              "\n",
              "  <div id=\"df-bdedcf4e-de05-4bcc-801f-8cf6f96722ce\">\n",
              "    <div class=\"colab-df-container\">\n",
              "      <div>\n",
              "<style scoped>\n",
              "    .dataframe tbody tr th:only-of-type {\n",
              "        vertical-align: middle;\n",
              "    }\n",
              "\n",
              "    .dataframe tbody tr th {\n",
              "        vertical-align: top;\n",
              "    }\n",
              "\n",
              "    .dataframe thead th {\n",
              "        text-align: right;\n",
              "    }\n",
              "</style>\n",
              "<table border=\"1\" class=\"dataframe\">\n",
              "  <thead>\n",
              "    <tr style=\"text-align: right;\">\n",
              "      <th></th>\n",
              "      <th>Unnamed: 0</th>\n",
              "      <th>uid</th>\n",
              "      <th>country</th>\n",
              "      <th>language</th>\n",
              "      <th>birthdate</th>\n",
              "      <th>joined</th>\n",
              "    </tr>\n",
              "  </thead>\n",
              "  <tbody>\n",
              "    <tr>\n",
              "      <th>0</th>\n",
              "      <td>0</td>\n",
              "      <td>1316040758</td>\n",
              "      <td>EG</td>\n",
              "      <td>AR,EN,</td>\n",
              "      <td>1984-03-11T00:00:00.000Z</td>\n",
              "      <td>2021-01-13T00:00:00.000Z</td>\n",
              "    </tr>\n",
              "    <tr>\n",
              "      <th>1</th>\n",
              "      <td>1</td>\n",
              "      <td>1429235843</td>\n",
              "      <td>KE</td>\n",
              "      <td>EN,KI,SW,</td>\n",
              "      <td>1993-03-01T00:00:00.000Z</td>\n",
              "      <td>2021-05-27T00:00:00.000Z</td>\n",
              "    </tr>\n",
              "    <tr>\n",
              "      <th>2</th>\n",
              "      <td>2</td>\n",
              "      <td>1430094402</td>\n",
              "      <td>PK</td>\n",
              "      <td>DE,EN,ES,ID,PT,RU,</td>\n",
              "      <td>1989-09-24T00:00:00.000Z</td>\n",
              "      <td>2021-05-29T00:00:00.000Z</td>\n",
              "    </tr>\n",
              "    <tr>\n",
              "      <th>3</th>\n",
              "      <td>3</td>\n",
              "      <td>1458049517</td>\n",
              "      <td>TR</td>\n",
              "      <td>DE,EN,FR,RU,TR,</td>\n",
              "      <td>1996-12-16T00:00:00.000Z</td>\n",
              "      <td>2021-07-27T00:00:00.000Z</td>\n",
              "    </tr>\n",
              "    <tr>\n",
              "      <th>4</th>\n",
              "      <td>4</td>\n",
              "      <td>1490584733</td>\n",
              "      <td>ID</td>\n",
              "      <td>EN,ID,</td>\n",
              "      <td>1982-03-13T00:00:00.000Z</td>\n",
              "      <td>2021-09-29T00:00:00.000Z</td>\n",
              "    </tr>\n",
              "  </tbody>\n",
              "</table>\n",
              "</div>\n",
              "      <button class=\"colab-df-convert\" onclick=\"convertToInteractive('df-bdedcf4e-de05-4bcc-801f-8cf6f96722ce')\"\n",
              "              title=\"Convert this dataframe to an interactive table.\"\n",
              "              style=\"display:none;\">\n",
              "        \n",
              "  <svg xmlns=\"http://www.w3.org/2000/svg\" height=\"24px\"viewBox=\"0 0 24 24\"\n",
              "       width=\"24px\">\n",
              "    <path d=\"M0 0h24v24H0V0z\" fill=\"none\"/>\n",
              "    <path d=\"M18.56 5.44l.94 2.06.94-2.06 2.06-.94-2.06-.94-.94-2.06-.94 2.06-2.06.94zm-11 1L8.5 8.5l.94-2.06 2.06-.94-2.06-.94L8.5 2.5l-.94 2.06-2.06.94zm10 10l.94 2.06.94-2.06 2.06-.94-2.06-.94-.94-2.06-.94 2.06-2.06.94z\"/><path d=\"M17.41 7.96l-1.37-1.37c-.4-.4-.92-.59-1.43-.59-.52 0-1.04.2-1.43.59L10.3 9.45l-7.72 7.72c-.78.78-.78 2.05 0 2.83L4 21.41c.39.39.9.59 1.41.59.51 0 1.02-.2 1.41-.59l7.78-7.78 2.81-2.81c.8-.78.8-2.07 0-2.86zM5.41 20L4 18.59l7.72-7.72 1.47 1.35L5.41 20z\"/>\n",
              "  </svg>\n",
              "      </button>\n",
              "      \n",
              "  <style>\n",
              "    .colab-df-container {\n",
              "      display:flex;\n",
              "      flex-wrap:wrap;\n",
              "      gap: 12px;\n",
              "    }\n",
              "\n",
              "    .colab-df-convert {\n",
              "      background-color: #E8F0FE;\n",
              "      border: none;\n",
              "      border-radius: 50%;\n",
              "      cursor: pointer;\n",
              "      display: none;\n",
              "      fill: #1967D2;\n",
              "      height: 32px;\n",
              "      padding: 0 0 0 0;\n",
              "      width: 32px;\n",
              "    }\n",
              "\n",
              "    .colab-df-convert:hover {\n",
              "      background-color: #E2EBFA;\n",
              "      box-shadow: 0px 1px 2px rgba(60, 64, 67, 0.3), 0px 1px 3px 1px rgba(60, 64, 67, 0.15);\n",
              "      fill: #174EA6;\n",
              "    }\n",
              "\n",
              "    [theme=dark] .colab-df-convert {\n",
              "      background-color: #3B4455;\n",
              "      fill: #D2E3FC;\n",
              "    }\n",
              "\n",
              "    [theme=dark] .colab-df-convert:hover {\n",
              "      background-color: #434B5C;\n",
              "      box-shadow: 0px 1px 3px 1px rgba(0, 0, 0, 0.15);\n",
              "      filter: drop-shadow(0px 1px 2px rgba(0, 0, 0, 0.3));\n",
              "      fill: #FFFFFF;\n",
              "    }\n",
              "  </style>\n",
              "\n",
              "      <script>\n",
              "        const buttonEl =\n",
              "          document.querySelector('#df-bdedcf4e-de05-4bcc-801f-8cf6f96722ce button.colab-df-convert');\n",
              "        buttonEl.style.display =\n",
              "          google.colab.kernel.accessAllowed ? 'block' : 'none';\n",
              "\n",
              "        async function convertToInteractive(key) {\n",
              "          const element = document.querySelector('#df-bdedcf4e-de05-4bcc-801f-8cf6f96722ce');\n",
              "          const dataTable =\n",
              "            await google.colab.kernel.invokeFunction('convertToInteractive',\n",
              "                                                     [key], {});\n",
              "          if (!dataTable) return;\n",
              "\n",
              "          const docLinkHtml = 'Like what you see? Visit the ' +\n",
              "            '<a target=\"_blank\" href=https://colab.research.google.com/notebooks/data_table.ipynb>data table notebook</a>'\n",
              "            + ' to learn more about interactive tables.';\n",
              "          element.innerHTML = '';\n",
              "          dataTable['output_type'] = 'display_data';\n",
              "          await google.colab.output.renderOutput(dataTable, element);\n",
              "          const docLink = document.createElement('div');\n",
              "          docLink.innerHTML = docLinkHtml;\n",
              "          element.appendChild(docLink);\n",
              "        }\n",
              "      </script>\n",
              "    </div>\n",
              "  </div>\n",
              "  "
            ]
          },
          "metadata": {},
          "execution_count": 15
        }
      ]
    },
    {
      "cell_type": "markdown",
      "source": [
        "## Task - 2\n",
        "Create a Python Script that provides analysis of Workers' wages (per country, per task language ,per type task, etc...)"
      ],
      "metadata": {
        "id": "qjl3xFAaXmxv"
      }
    },
    {
      "cell_type": "markdown",
      "source": [
        "##### 2.1 Workers' Wages per Country"
      ],
      "metadata": {
        "id": "SWVAT0_RZAg9"
      }
    },
    {
      "cell_type": "code",
      "source": [
        "# Workers' wages per country = avg wage per country (total wage in that country divide by number of tasks)"
      ],
      "metadata": {
        "id": "MwrrrMqqXqA1"
      },
      "execution_count": null,
      "outputs": []
    },
    {
      "cell_type": "code",
      "source": [
        "def calc_wages_per_country(income_data, user_data):\n",
        "  income_data = income_data[[\"uid\", \"income\"]]\n",
        "  df_new = income_data.groupby('uid').sum()\n",
        "  newdf = df_new.merge(user_data[['uid','joined']], how='outer', on='uid')\n",
        "  df8 = newdf.merge(user_data[['uid','country', 'language']], how='outer', on='uid')\n",
        "  df3 = df8[['country', 'income']]\n",
        "  wage_per_country = df3.groupby('country')['income'].mean()\n",
        "  return wage_per_country"
      ],
      "metadata": {
        "id": "t_xlKWilX63c"
      },
      "execution_count": null,
      "outputs": []
    },
    {
      "cell_type": "code",
      "source": [
        "wage_per_country = calc_wages_per_country(income_data, user_data)\n",
        "print(wage_per_country)"
      ],
      "metadata": {
        "colab": {
          "base_uri": "https://localhost:8080/"
        },
        "id": "53uSFEduYyQ0",
        "outputId": "19ec525b-cbc5-437d-9488-e1d9e976bee9"
      },
      "execution_count": null,
      "outputs": [
        {
          "output_type": "stream",
          "name": "stdout",
          "text": [
            "country\n",
            "EG     6.304667\n",
            "ET     9.018000\n",
            "ID    36.174000\n",
            "KE     2.617333\n",
            "PE     6.135000\n",
            "PH    19.165000\n",
            "PK    11.466000\n",
            "TR     8.757000\n",
            "US     3.578000\n",
            "Name: income, dtype: float64\n"
          ]
        }
      ]
    },
    {
      "cell_type": "code",
      "source": [
        "figure(figsize=(8, 8), dpi=80)\n",
        "p1 = wage_per_country.plot(kind='bar', title='Average Wages per Country', color = 'mediumslateblue')"
      ],
      "metadata": {
        "colab": {
          "base_uri": "https://localhost:8080/",
          "height": 570
        },
        "id": "uFSGaN6OGCB1",
        "outputId": "51b34555-a5a4-4c77-e8b8-cc1d4d8dbe79"
      },
      "execution_count": null,
      "outputs": [
        {
          "output_type": "display_data",
          "data": {
            "text/plain": [
              "<Figure size 640x640 with 1 Axes>"
            ],
            "image/png": "[encoded data removed]"
          },
          "metadata": {
            "needs_background": "light"
          }
        }
      ]
    },
    {
      "cell_type": "markdown",
      "source": [
        "#### 2.2 Average wages of workers as per the language of the task"
      ],
      "metadata": {
        "id": "fdAfLE3sZOSH"
      }
    },
    {
      "cell_type": "code",
      "source": [
        "def calc_wages_per_tasklang(income_data, task_data):\n",
        "  df_new = income_data.merge(task_data[['project_id', 'lang']], how='inner', on='project_id')\n",
        "  df_new = df_new.drop_duplicates()\n",
        "  df_new = df_new[['lang', 'income']]\n",
        "  df5 = df_new.groupby('lang')['income'].mean()\n",
        "  return df5"
      ],
      "metadata": {
        "id": "TsCTQsi2ZZFN"
      },
      "execution_count": null,
      "outputs": []
    },
    {
      "cell_type": "code",
      "source": [
        "wage_per_Tlang = calc_wages_per_tasklang(income_data, task_data)\n",
        "print(wage_per_Tlang)"
      ],
      "metadata": {
        "colab": {
          "base_uri": "https://localhost:8080/"
        },
        "id": "GhwBNArSaf7R",
        "outputId": "6d15fb73-d14b-420b-b442-efef6a159690"
      },
      "execution_count": null,
      "outputs": [
        {
          "output_type": "stream",
          "name": "stdout",
          "text": [
            "lang\n",
            "DE    0.020000\n",
            "EN    0.235976\n",
            "FR    0.000000\n",
            "RU    0.044381\n",
            "Name: income, dtype: float64\n"
          ]
        }
      ]
    },
    {
      "cell_type": "code",
      "source": [
        "figure(figsize=(8, 8), dpi=80)\n",
        "p1 = wage_per_Tlang.plot(kind='bar', title='Average Wages per Task Language', color = 'mediumslateblue')"
      ],
      "metadata": {
        "colab": {
          "base_uri": "https://localhost:8080/",
          "height": 570
        },
        "id": "a4TApR3nLCMb",
        "outputId": "bc1afee2-0682-4742-cb5c-9e6a78a33f7b"
      },
      "execution_count": null,
      "outputs": [
        {
          "output_type": "display_data",
          "data": {
            "text/plain": [
              "<Figure size 640x640 with 1 Axes>"
            ],
            "image/png": "[encoded data removed]"
          },
          "metadata": {
            "needs_background": "light"
          }
        }
      ]
    },
    {
      "cell_type": "markdown",
      "source": [
        "#### 2.3 Average wages of workers as per the language they know"
      ],
      "metadata": {
        "id": "wpW26W3Ebpap"
      }
    },
    {
      "cell_type": "code",
      "source": [
        "def calc_wage_per_userlang(income_data, user_data):\n",
        "  income_data = income_data[[\"uid\", \"income\"]]\n",
        "  df_new = income_data.groupby('uid').sum()\n",
        "  newdf = df_new.merge(user_data[['uid','joined']], how='outer', on='uid')\n",
        "  df8 = newdf.merge(user_data[['uid','country', 'language']], how='outer', on='uid')\n",
        "  df8['langs'] =  df8['language'].str.split(',')[:-1]\n",
        "  df9 = df8.explode(['langs'])\n",
        "  df9 = df9.reset_index()\n",
        "  df9 = df9[['income', 'langs']]\n",
        "  df9['langs'].replace('', np.nan, inplace=True)\n",
        "  df9 = df9.dropna()\n",
        "  df9 = df9.reset_index()\n",
        "  df9 = df9[['income', 'langs']]\n",
        "  df10 = df9.groupby('langs')['income'].mean()\n",
        "  return df10"
      ],
      "metadata": {
        "id": "g0Mqty23bxYp"
      },
      "execution_count": null,
      "outputs": []
    },
    {
      "cell_type": "code",
      "source": [
        "wage_per_Ulang = calc_wage_per_userlang(income_data, user_data)\n",
        "print(wage_per_Ulang)"
      ],
      "metadata": {
        "colab": {
          "base_uri": "https://localhost:8080/"
        },
        "id": "2mZQPPFachq1",
        "outputId": "22c9aa4f-0343-42e6-8d79-6cd01e0b3a09"
      },
      "execution_count": null,
      "outputs": [
        {
          "output_type": "stream",
          "name": "stdout",
          "text": [
            "langs\n",
            "AM       17.558000\n",
            "AR        7.986000\n",
            "DE        9.456000\n",
            "EN       10.535800\n",
            "ES       15.417000\n",
            "FR       13.713600\n",
            "HE       19.412000\n",
            "ID       25.289333\n",
            "IT        6.135000\n",
            "JA        0.000000\n",
            "KI        6.717000\n",
            "NL        6.135000\n",
            "PT       19.138000\n",
            "PT-BR    34.756000\n",
            "RU       12.014667\n",
            "SW        3.758500\n",
            "TL       34.756000\n",
            "TR        8.757000\n",
            "Name: income, dtype: float64\n"
          ]
        }
      ]
    },
    {
      "cell_type": "code",
      "source": [
        "figure(figsize=(8, 8), dpi=80)\n",
        "p1 = wage_per_Ulang.plot(kind='bar', title='Average Wages per User Language', color = 'mediumslateblue')"
      ],
      "metadata": {
        "colab": {
          "base_uri": "https://localhost:8080/",
          "height": 586
        },
        "id": "wFUNZ12jM8_F",
        "outputId": "e9b38952-dc02-4040-9e21-e2e00188a562"
      },
      "execution_count": null,
      "outputs": [
        {
          "output_type": "display_data",
          "data": {
            "text/plain": [
              "<Figure size 640x640 with 1 Axes>"
            ],
            "image/png": "[encoded data removed]"
          },
          "metadata": {
            "needs_background": "light"
          }
        }
      ]
    },
    {
      "cell_type": "markdown",
      "source": [
        "## Task - 3\n",
        "Create a Python Script that given a worker id find the time it took to complete a task (e.g. since it started until it finished)"
      ],
      "metadata": {
        "id": "zugK19YTdskW"
      }
    },
    {
      "cell_type": "code",
      "source": [
        "def completion_time(project_id, worker_id):\n",
        "  df7 = income_data.merge(task_data[['project_id', 'pool_startedAt']], how='inner', on='project_id')\n",
        "  df7 = df7.drop_duplicates()\n",
        "  df7[\"date\"] = pd.to_datetime(df7[\"date\"], format='%Y-%m-%d')\n",
        "  df7[\"pool_startedAt\"] = pd.to_datetime(df7[\"pool_startedAt\"], format='%Y-%m-%d')\n",
        "  df7['days'] = (df7['date']- df7['pool_startedAt']).dt.days\n",
        "  days = df7['days'].loc[(df7['project_id'] == project_id) & (df7['uid'] == worker_id)][0]\n",
        "  print( ' The number of days taken by user '+ str(worker_id) + ' to complete the task ' + str(project_id) + ' = ' + str(days))"
      ],
      "metadata": {
        "id": "4lhAlw6odwgK"
      },
      "execution_count": null,
      "outputs": []
    },
    {
      "cell_type": "code",
      "source": [
        "completion_time(2338, 1458049517)"
      ],
      "metadata": {
        "colab": {
          "base_uri": "https://localhost:8080/"
        },
        "id": "SHHSxCqzfJ9f",
        "outputId": "5f4d9ce4-c95b-4d87-b9a6-2d42f3f9cd01"
      },
      "execution_count": null,
      "outputs": [
        {
          "output_type": "stream",
          "name": "stdout",
          "text": [
            " The number of days taken by user 1458049517 to complete the task 2338 = 25\n"
          ]
        }
      ]
    },
    {
      "cell_type": "markdown",
      "source": [
        "## Task - 4\n",
        "Create a Python Script that provides analysis of Workers' wages , exploratory analysis (per country, per task language ,per type task, etc...)"
      ],
      "metadata": {
        "id": "R8z5xE2HfxY6"
      }
    },
    {
      "cell_type": "markdown",
      "source": [
        "Below is a visual representation and comparison of average wage of workers for each country"
      ],
      "metadata": {
        "id": "4-WaGf08f98b"
      }
    },
    {
      "cell_type": "code",
      "source": [
        "p = plt.bar(wage_per_country.index, wage_per_country.values)"
      ],
      "metadata": {
        "colab": {
          "base_uri": "https://localhost:8080/",
          "height": 265
        },
        "id": "sfn4RAiuf0m4",
        "outputId": "0192f090-5b05-4581-dd13-c63688e3445f"
      },
      "execution_count": null,
      "outputs": [
        {
          "output_type": "display_data",
          "data": {
            "text/plain": [
              "<Figure size 432x288 with 1 Axes>"
            ],
            "image/png": "[encoded data removed]"
          },
          "metadata": {
            "needs_background": "light"
          }
        }
      ]
    },
    {
      "cell_type": "markdown",
      "source": [
        "Below is a visual representation and comparison of average wage of workers as per the language of the task"
      ],
      "metadata": {
        "id": "D_0UjrrXgO-V"
      }
    },
    {
      "cell_type": "code",
      "source": [
        "p = plt.bar(wage_per_Tlang.index, wage_per_Tlang.values)"
      ],
      "metadata": {
        "colab": {
          "base_uri": "https://localhost:8080/",
          "height": 265
        },
        "id": "4tszoLibgZtB",
        "outputId": "799cc9de-c672-4c8a-e897-b52a16107235"
      },
      "execution_count": null,
      "outputs": [
        {
          "output_type": "display_data",
          "data": {
            "text/plain": [
              "<Figure size 432x288 with 1 Axes>"
            ],
            "image/png": "[encoded data removed]"
          },
          "metadata": {
            "needs_background": "light"
          }
        }
      ]
    },
    {
      "cell_type": "markdown",
      "source": [
        "Below is a visual representation and comparison of average wage of workers as per the language that they know"
      ],
      "metadata": {
        "id": "N6KK6-1vgPN_"
      }
    },
    {
      "cell_type": "code",
      "source": [
        "p = plt.bar(wage_per_Ulang.index, wage_per_Ulang.values)"
      ],
      "metadata": {
        "colab": {
          "base_uri": "https://localhost:8080/",
          "height": 265
        },
        "id": "gUmO56c3f7fy",
        "outputId": "32c7d952-3963-4d5c-bdb9-998b9f4f9d31"
      },
      "execution_count": null,
      "outputs": [
        {
          "output_type": "display_data",
          "data": {
            "text/plain": [
              "<Figure size 432x288 with 1 Axes>"
            ],
            "image/png": "[encoded data removed]"
          },
          "metadata": {
            "needs_background": "light"
          }
        }
      ]
    },
    {
      "cell_type": "code",
      "source": [],
      "metadata": {
        "id": "ZAwNlXJ2gztP"
      },
      "execution_count": null,
      "outputs": []
    }
  ]
}